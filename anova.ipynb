{
 "cells": [
  {
   "cell_type": "code",
   "execution_count": 9,
   "metadata": {},
   "outputs": [],
   "source": [
    "import pandas as pd\n",
    "import numpy as np\n",
    "import statsmodels\n",
    "import statsmodels.api\n",
    "from statsmodels.formula.api import ols\n",
    "from statsmodels.stats.anova import anova_lm\n",
    "from scipy.stats import f_oneway"
   ]
  },
  {
   "cell_type": "code",
   "execution_count": 10,
   "metadata": {},
   "outputs": [
    {
     "name": "stdout",
     "output_type": "stream",
     "text": [
      "    SeedProductivity SeedVariety FertilizerVariety\n",
      "0                  6           A                 W\n",
      "1                  7           A                 X\n",
      "2                  3           A                 Y\n",
      "3                  8           A                 Z\n",
      "4                  5           B                 W\n",
      "5                  5           B                 X\n",
      "6                  3           B                 Y\n",
      "7                  7           B                 Z\n",
      "8                  5           C                 W\n",
      "9                  4           C                 X\n",
      "10                 3           C                 Y\n",
      "11                 4           C                 Z\n"
     ]
    }
   ],
   "source": [
    "df = pd.DataFrame({\n",
    "    'SeedProductivity' : [6,7,3,8,5,5,3,7,5,4,3,4],\n",
    "    'SeedVariety' : ['A','A','A','A','B','B','B','B','C','C','C','C',],\n",
    "    'FertilizerVariety' : ['W','X','Y','Z','W','X','Y','Z','W','X','Y','Z',]\n",
    "})\n",
    "\n",
    "print(df)"
   ]
  },
  {
   "cell_type": "markdown",
   "metadata": {},
   "source": [
    "## 1 Way ANOVA"
   ]
  },
  {
   "cell_type": "code",
   "execution_count": 11,
   "metadata": {},
   "outputs": [
    {
     "data": {
      "text/plain": [
       "F_onewayResult(statistic=0.6621747593031081, pvalue=0.589875753903392)"
      ]
     },
     "execution_count": 11,
     "metadata": {},
     "output_type": "execute_result"
    }
   ],
   "source": [
    "performance1 = [8, 9, 11, 12]\n",
    "performance2 = [6, 8, 10, 4]\n",
    "performance3 = [14, 12, 18, 9]\n",
    "performance4 = [20, 22, 25, 23]\n",
    "\n",
    "# Performance\n",
    "performance1 = [5, 9, 50, 25]\n",
    "performance2 = [6, 8, 7, 10, 17]\n",
    "performance3 = [26, 12, 23, 9]\n",
    "performance4 = [28, 6, 0, 76]\n",
    "\n",
    "# Conduct the one-way ANOVA\n",
    "f_oneway(performance1, performance2, performance3, performance4)\n"
   ]
  },
  {
   "cell_type": "markdown",
   "metadata": {},
   "source": [
    "## 2 Way ANOVA"
   ]
  },
  {
   "cell_type": "code",
   "execution_count": 12,
   "metadata": {},
   "outputs": [
    {
     "name": "stdout",
     "output_type": "stream",
     "text": [
      "                       df  sum_sq  mean_sq    F    PR(>F)\n",
      "C(SeedVariety)        2.0     8.0      4.0  4.0  0.078717\n",
      "C(FertilizerVariety)  3.0    18.0      6.0  6.0  0.030796\n",
      "Residual              6.0     6.0      1.0  NaN       NaN\n"
     ]
    }
   ],
   "source": [
    "formula = 'SeedProductivity ~ C(SeedVariety) + C(FertilizerVariety)'\n",
    "model = statsmodels.formula.api.ols(formula,df).fit()\n",
    "\n",
    "anova_table = anova_lm(model,type=2)\n",
    "print(anova_table)"
   ]
  },
  {
   "cell_type": "code",
   "execution_count": null,
   "metadata": {},
   "outputs": [],
   "source": []
  }
 ],
 "metadata": {
  "kernelspec": {
   "display_name": "Python 3",
   "language": "python",
   "name": "python3"
  },
  "language_info": {
   "codemirror_mode": {
    "name": "ipython",
    "version": 3
   },
   "file_extension": ".py",
   "mimetype": "text/x-python",
   "name": "python",
   "nbconvert_exporter": "python",
   "pygments_lexer": "ipython3",
   "version": "3.10.12"
  }
 },
 "nbformat": 4,
 "nbformat_minor": 2
}
